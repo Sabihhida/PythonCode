{
  "cells": [
    {
      "cell_type": "code",
      "execution_count": null,
      "metadata": {
        "id": "72-H0HhmO11L"
      },
      "outputs": [],
      "source": [
        "import pandas as pd"
      ]
    },
    {
      "cell_type": "code",
      "execution_count": null,
      "metadata": {
        "id": "GCbbxzuPLiq8"
      },
      "outputs": [],
      "source": [
        "BOOL_VALUE_CONSTANT =  \"\"\"if let constantValue = try? values.decodeIfPresent(Bool.self, forKey: .constantValue) {\n",
        "            self.constantValue = constantValue\n",
        "        } else if let constantValue = try? values.decodeIfPresent(Int.self, forKey: .constantValue) {\n",
        "            self.constantValue = constantValue.boolValue\n",
        "        } else {\n",
        "            self.constantValue = false\n",
        "        }\"\"\""
      ]
    },
    {
      "cell_type": "code",
      "execution_count": null,
      "metadata": {
        "id": "jJAELxhR5OAs"
      },
      "outputs": [],
      "source": [
        "\n",
        "STRING_VALUE_CONSTANT =  \"\"\"if let constantValue = try? values.decodeIfPresent(String.self, forKey: .constantValue) {\n",
        "            self.constantValue = constantValue\n",
        "        } else if let constantValue = try? values.decodeIfPresent(Int.self, forKey: .constantValue) {\n",
        "            self.constantValue = String(constantValue)\n",
        "        } else {\n",
        "            self.constantValue = \"\"\n",
        "        }\"\"\""
      ]
    },
    {
      "cell_type": "code",
      "execution_count": null,
      "metadata": {
        "id": "dIt7_eqjNZsl"
      },
      "outputs": [],
      "source": [
        "INT_VALUE_CONSTANT =  \"\"\"if let constantValue = try? values.decodeIfPresent(Int.self, forKey: .constantValue) {\n",
        "            self.constantValue = constantValue\n",
        "        } else if let constantValue = try? values.decodeIfPresent(String.self, forKey: .constantValue) {\n",
        "            self.constantValue = Int(constantValue) ?? 0\n",
        "        } else {\n",
        "            self.constantValue = 0\n",
        "        }\"\"\"\n"
      ]
    },
    {
      "cell_type": "code",
      "execution_count": null,
      "metadata": {
        "id": "ro7hA9ES8s9D"
      },
      "outputs": [],
      "source": [
        "OBJECT_CONSTANT_STRING =  \"\"\"self.bidsList = try values.decodeIfPresent([BidsList]?.self, forKey: .bidsList)\"\"\""
      ]
    },
    {
      "cell_type": "markdown",
      "metadata": {
        "id": "2ZdWFHVdBuen"
      },
      "source": [
        "# **Class  Encoding**"
      ]
    },
    {
      "cell_type": "code",
      "execution_count": null,
      "metadata": {
        "colab": {
          "base_uri": "https://localhost:8080/"
        },
        "id": "m2ooUImRKCSd",
        "outputId": "1220836c-cfd8-4130-d801-dc58294e49af"
      },
      "outputs": [
        {
          "output_type": "stream",
          "name": "stdout",
          "text": [
            "init(from decoder: Decoder) throws {\n",
            "        let values = try decoder.container(keyedBy: CodingKeys.self)\n",
            "if let host = try? values.decodeIfPresent(String.self, forKey: .host) {\n",
            "            self.host = host\n",
            "        } else if let host = try? values.decodeIfPresent(Int.self, forKey: .host) {\n",
            "            self.host = String(host)\n",
            "        } else {\n",
            "            self.host = \"\"\n",
            "        }\n",
            "if let path = try? values.decodeIfPresent(String.self, forKey: .path) {\n",
            "            self.path = path\n",
            "        } else if let path = try? values.decodeIfPresent(Int.self, forKey: .path) {\n",
            "            self.path = String(path)\n",
            "        } else {\n",
            "            self.path = \"\"\n",
            "        }\n",
            "if let sslKey = try? values.decodeIfPresent(String.self, forKey: .sslKey) {\n",
            "            self.sslKey = sslKey\n",
            "        } else if let sslKey = try? values.decodeIfPresent(Int.self, forKey: .sslKey) {\n",
            "            self.sslKey = String(sslKey)\n",
            "        } else {\n",
            "            self.sslKey = \"\"\n",
            "        }\n",
            "}\n"
          ]
        }
      ],
      "source": [
        "model = \"\"\"  let host: String?\n",
        "    let path: String?\n",
        "    let sslKey: String?\n",
        "\"\"\"\n",
        "lines = model.splitlines()\n",
        "\n",
        "print(\"\"\"init(from decoder: Decoder) throws {\n",
        "        let values = try decoder.container(keyedBy: CodingKeys.self)\"\"\")\n",
        "\n",
        "for line in lines:\n",
        "  typeAndModel = line.split(\":\")\n",
        "  dataType = typeAndModel.pop()\n",
        "  removePrefix = typeAndModel[0].replace(\"let\",\"\")\n",
        "  removePrefix = removePrefix.replace(\"var\",\"\")\n",
        "  variableNames = removePrefix.strip().split(\",\")\n",
        "  #print(dataType, variableNames)\n",
        "  if dataType.strip() == \"Int\" or dataType.strip() == \"Int?\":\n",
        "     for variable in variableNames:\n",
        "       newValue = INT_VALUE_CONSTANT.replace(\"constantValue\", variable.strip())\n",
        "       print(newValue)\n",
        "  elif dataType.strip() == \"String\" or dataType.strip() == \"String?\":\n",
        "     for variable in variableNames:\n",
        "       newStringValues = STRING_VALUE_CONSTANT.replace(\"constantValue\", variable.strip())\n",
        "       print(newStringValues)\n",
        "  elif dataType.strip() == \"Bool\" or dataType.strip() == \"Bool?\":\n",
        "     for variable in variableNames:\n",
        "       newBoolValues  = BOOL_VALUE_CONSTANT.replace(\"constantValue\", variable.strip())\n",
        "       print(newBoolValues)\n",
        "  else:\n",
        "     #print(line, variableNames, dataType)\n",
        "     for variable in variableNames:\n",
        "       #print(variable, dataType)\n",
        "       objectValue = OBJECT_CONSTANT_STRING.replace(\"bidsList\", variable.strip())\n",
        "       objectValue = objectValue.replace(\"[BidsList]?\", dataType.strip())\n",
        "       print(objectValue)\n",
        "\n",
        "\n",
        "    #leagues = try values.decode([League].self, forKey: .leagues)\n",
        "\n",
        "print(\"}\")\n"
      ]
    }
  ],
  "metadata": {
    "colab": {
      "provenance": []
    },
    "kernelspec": {
      "display_name": "Python 3",
      "name": "python3"
    },
    "language_info": {
      "name": "python"
    }
  },
  "nbformat": 4,
  "nbformat_minor": 0
}